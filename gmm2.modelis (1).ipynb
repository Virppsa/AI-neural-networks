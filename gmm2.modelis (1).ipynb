{
  "cells": [
    {
      "cell_type": "markdown",
      "source": [
        "\n",
        "#Užduotis\n",
        "\n",
        "Antroje užduotyje reikia realizuoti vaizdų klasifikavimo modelį. Atsiskaitinėjant pratybų dėstytojas atsiųs testinių vaizdų, su kuriais turėsite pademonstruoti, kaip jūsų realizuotas modelis veikia. Atsiskaitymo metu, turėsite gebėti papasakoti, kaip realizuotas, jūsų modelis. Programinės įrangos sprendimą galite naudoti savo nuožiūra.\n",
        "\n",
        "Klasės pasirenkamos savo nuožiūra, tačiau jų turi būti bent 3.\n",
        "Duomenų rinkinys turi būti padalintas į mokymo ir testavimo aibes.\n",
        "Su testavimo duomenų aibe reikia paskaičiuoti šias metrikas: klasifikavimo matrica (angl. confusion matrix), tikslumas, precizija, atkūrimas ir F1.\n",
        "Duomenų klasėms parinktos iš OpenImages V6 objektų aptikimo uždavinio duomenų rinkinio."
      ],
      "metadata": {
        "id": "ZbdjoPYC5XBM"
      }
    },
    {
      "cell_type": "code",
      "execution_count": null,
      "metadata": {
        "id": "SdLxJcs4wI9I"
      },
      "outputs": [],
      "source": [
        "!pip install openimages"
      ]
    },
    {
      "cell_type": "code",
      "execution_count": 4,
      "metadata": {
        "id": "i-7NYN84EPRk"
      },
      "outputs": [],
      "source": [
        "import os\n",
        "os.chdir(\"/content\")"
      ]
    },
    {
      "cell_type": "code",
      "execution_count": 5,
      "metadata": {
        "colab": {
          "base_uri": "https://localhost:8080/"
        },
        "id": "7VBy9i8hvu5P",
        "outputId": "40cc509a-1d5c-48fe-a401-c7457422aa13"
      },
      "outputs": [
        {
          "output_type": "stream",
          "name": "stdout",
          "text": [
            "Mounted at /content/drive\n"
          ]
        }
      ],
      "source": [
        "from google.colab import drive\n",
        "drive.mount('/content/drive')"
      ]
    },
    {
      "cell_type": "code",
      "execution_count": 6,
      "metadata": {
        "id": "9UQDyDaMQZvn"
      },
      "outputs": [],
      "source": [
        "import matplotlib.pyplot as plt\n",
        "import numpy as np\n",
        "import torch\n",
        "import torchvision\n",
        "import torchvision.transforms as transforms\n",
        "import torch.nn as nn\n",
        "import torch.nn.functional as F\n",
        "import torch.optim as optim\n",
        "from sklearn.metrics import classification_report, accuracy_score, precision_score, recall_score, f1_score, confusion_matrix\n",
        "import seaborn as sns\n",
        "import matplotlib.pyplot as plt\n",
        "from datetime import datetime\n",
        "from openimages.download import download_dataset"
      ]
    },
    {
      "cell_type": "code",
      "execution_count": 7,
      "metadata": {
        "colab": {
          "base_uri": "https://localhost:8080/"
        },
        "id": "JKyuie6kVZW5",
        "outputId": "0f11bcaf-47ea-4f37-b2b5-4ffcefcf4b09"
      },
      "outputs": [
        {
          "output_type": "stream",
          "name": "stdout",
          "text": [
            "Device: cpu\n"
          ]
        }
      ],
      "source": [
        "# Patikrinama, ar yra GPU\n",
        "\n",
        "device = torch.device('cuda:0' if torch.cuda.is_available() else 'cpu')\n",
        "print(f'Device: {device}')\n"
      ]
    },
    {
      "cell_type": "code",
      "execution_count": 15,
      "metadata": {
        "colab": {
          "base_uri": "https://localhost:8080/"
        },
        "id": "QK8_JUjIvM2J",
        "outputId": "408705da-2d22-4deb-906b-4586e1207a50"
      },
      "outputs": [
        {
          "output_type": "stream",
          "name": "stderr",
          "text": [
            " 99%|█████████▊| 296/300 [00:07<00:00, 40.81it/s]WARNING:urllib3.connectionpool:Connection pool is full, discarding connection: open-images-dataset.s3.amazonaws.com. Connection pool size: 10\n",
            "100%|██████████| 300/300 [00:07<00:00, 41.18it/s]\n",
            "100%|██████████| 300/300 [00:07<00:00, 41.54it/s]\n",
            "100%|██████████| 300/300 [00:07<00:00, 39.99it/s]\n",
            " 98%|█████████▊| 294/300 [00:06<00:00, 61.02it/s]WARNING:urllib3.connectionpool:Connection pool is full, discarding connection: open-images-dataset.s3.amazonaws.com. Connection pool size: 10\n",
            "100%|██████████| 300/300 [00:06<00:00, 48.17it/s]\n",
            "100%|██████████| 300/300 [00:07<00:00, 40.44it/s]\n",
            "100%|██████████| 300/300 [00:06<00:00, 44.19it/s]\n"
          ]
        }
      ],
      "source": [
        "#Atsisiunčiu duomenis iš V6 Open Images\n",
        "base_path = \"/content/drive/MyDrive/gmm2/data2/\"\n",
        "\n",
        "def Download(path):\n",
        "    download_dir = base_path + path\n",
        "    download_amount_per_class = 300\n",
        "    if not os.path.isdir(download_dir):\n",
        "        download_dataset(download_dir, [\"Dog\", \"Cat\", \"Horse\"], limit=download_amount_per_class)\n",
        "\n",
        "Download(\"train\")\n",
        "Download(\"test\")"
      ]
    },
    {
      "cell_type": "code",
      "execution_count": 16,
      "metadata": {
        "colab": {
          "base_uri": "https://localhost:8080/"
        },
        "id": "7CjHuHfYxKL3",
        "outputId": "e13118a5-7178-4ea0-8df0-afb68f0d93ab"
      },
      "outputs": [
        {
          "output_type": "execute_result",
          "data": {
            "text/plain": [
              "3"
            ]
          },
          "metadata": {},
          "execution_count": 16
        }
      ],
      "source": [
        "#Pasitikrinu ar tikrai tiek kiek turėjo klasių susikūrė\n",
        "data_dir_path = \"/content/drive/MyDrive/gmm2/data2/train\"\n",
        "image_classes = os.listdir(data_dir_path)\n",
        "classes_amount = len(image_classes)\n",
        "classes_amount"
      ]
    },
    {
      "cell_type": "code",
      "execution_count": 17,
      "metadata": {
        "id": "CiP4oRiCW3nN"
      },
      "outputs": [],
      "source": [
        "# Transformuoju duomenis (augmentacijos)\n",
        "\n",
        "#1)Treniravimo datasetą:\n",
        "transforms_train = transforms.Compose([\n",
        "  transforms.Resize((128, 128)),\n",
        "  transforms.RandomHorizontalFlip(),\n",
        "  transforms.ToTensor(),\n",
        "  transforms.Normalize(mean=(0.5, 0.5, 0.5), std=(0.5, 0.5, 0.5)),\n",
        "  transforms.RandomRotation(15),\n",
        "  transforms.RandomGrayscale(),\n",
        "  transforms.ColorJitter(0.2, 0.3, 0.2)\n",
        "])\n",
        "\n",
        "#1)Testavimo datasetą:\n",
        "transforms_test = transforms.Compose([\n",
        "  transforms.Resize((128, 128)),\n",
        "  transforms.ToTensor(),\n",
        "  transforms.Normalize(mean=(0.5, 0.5, 0.5), std=(0.5, 0.5, 0.5))\n",
        "])"
      ]
    },
    {
      "cell_type": "code",
      "execution_count": 18,
      "metadata": {
        "colab": {
          "base_uri": "https://localhost:8080/"
        },
        "id": "TyVgvMwtTeFU",
        "outputId": "29fdd26a-7ea3-4238-bba7-f7d337afa17b"
      },
      "outputs": [
        {
          "output_type": "stream",
          "name": "stdout",
          "text": [
            "Train: 900, Test: 900\n"
          ]
        }
      ],
      "source": [
        "#Pasirenku bečo dydį ir paraleliai kiek eis bečų\n",
        "num_workers = 2\n",
        "batch_size = 16\n",
        "\n",
        "# Užkraunu/sutvarkau duomenis:\n",
        "#1) Mokymosi duomenys\n",
        "train_dataset = torchvision.datasets.ImageFolder(root='/content/drive/MyDrive/gmm2/data2/train', transform=transforms_train)\n",
        "train_loader = torch.utils.data.DataLoader(train_dataset, batch_size=batch_size, num_workers=num_workers, shuffle=True)\n",
        "\n",
        "# 2)Testavimo duomenis\n",
        "test_dataset = torchvision.datasets.ImageFolder(root='/content/drive/MyDrive/gmm2/data2/test', transform=transforms_test)\n",
        "test_loader = torch.utils.data.DataLoader(test_dataset, batch_size=batch_size, num_workers=num_workers, shuffle=False)\n",
        "\n",
        "#Pažiūrėjimui ar gerai padalinta\n",
        "classes = (\"Cat\", \"Dog\", \"Horse\")\n",
        "print(f'Train: {len(train_dataset)}, Test: {len(test_dataset)}')"
      ]
    },
    {
      "cell_type": "code",
      "execution_count": 19,
      "metadata": {
        "id": "cbvNgubpGJSC"
      },
      "outputs": [],
      "source": [
        "#Didesnis konvoliucinis tinklas\n",
        "class ComplexConvNet(torch.nn.Module):\n",
        "  def __init__(self, in_shape, out_classes):\n",
        "    super().__init__()\n",
        "    self.conv1_1 = torch.nn.Conv2d(in_shape[0], 16, 3, padding = 'same')\n",
        "    self.conv1_2 = torch.nn.Conv2d(16, 16, 3, padding = 'same')\n",
        "    self.pool1 = torch.nn.MaxPool2d((2, 2), (2, 2))\n",
        "    self.conv2_1 = torch.nn.Conv2d(16, 32, 3, padding = 'same')\n",
        "    self.conv2_2 = torch.nn.Conv2d(32, 32, 3, padding = 'same')\n",
        "    self.pool2 = torch.nn.MaxPool2d((2, 2), (2, 2))\n",
        "    self.fc3 = torch.nn.Linear(32 * in_shape[1] * in_shape[2] // 4**2, 128)\n",
        "    self.fc4 = torch.nn.Linear(128, out_classes)\n",
        "\n",
        "  def forward(self, x):\n",
        "    y = torch.nn.Sequential(\n",
        "        self.conv1_1,\n",
        "        torch.nn.ReLU(),\n",
        "        self.conv1_2,\n",
        "        torch.nn.ReLU(),\n",
        "        self.pool1,\n",
        "        self.conv2_1,\n",
        "        torch.nn.ReLU(),\n",
        "        self.conv2_2,\n",
        "        torch.nn.ReLU(),\n",
        "        self.pool2,\n",
        "        torch.nn.Flatten(),\n",
        "        self.fc3,\n",
        "        torch.nn.ReLU(),\n",
        "        self.fc4\n",
        "    )(x)\n",
        "    return y\n"
      ]
    },
    {
      "cell_type": "code",
      "execution_count": 20,
      "metadata": {
        "id": "fBBrh7JHhAOW"
      },
      "outputs": [],
      "source": [
        "def train(model, loader, classes, epoch_count, lr=1e-3):\n",
        "  loss_func = torch.nn.CrossEntropyLoss()\n",
        "  optimizer = torch.optim.Adam(model.parameters(), lr=lr)\n",
        "  model.train()\n",
        "\n",
        "  start_time = datetime.now()\n",
        "\n",
        "  for epoch in range(epoch_count):\n",
        "    loss_values = np.array([], dtype = np.float32)\n",
        "    correct = 0\n",
        "    total = 0\n",
        "\n",
        "    for data in loader:\n",
        "      images, labels = data\n",
        "      images, labels = images.to(device), labels.to(device)\n",
        "\n",
        "      optimizer.zero_grad()\n",
        "      pred = model(images)\n",
        "      loss = loss_func(pred, labels)\n",
        "      loss_values = np.append(loss_values, loss.cpu().detach().numpy())\n",
        "\n",
        "      loss.backward()\n",
        "      optimizer.step()\n",
        "\n",
        "      _, predicted = torch.max(pred.data, 1)\n",
        "      total += labels.size(0)\n",
        "      correct += (predicted == labels).sum().item()\n",
        "\n",
        "    epoch_loss = np.mean(loss_values)\n",
        "    epoch_accuracy = correct / total * 100\n",
        "    current_time = datetime.now()\n",
        "    elapsed_time = (current_time - start_time).total_seconds()\n",
        "\n",
        "    print(f'Epoch {epoch + 1}/{epoch_count}, Loss: {epoch_loss:.4f}, '\n",
        "          f'Accuracy: {epoch_accuracy:.2f}%, Time: {elapsed_time:.2f}s')"
      ]
    },
    {
      "cell_type": "code",
      "source": [
        "# import os\n",
        "# import torch\n",
        "\n",
        "#Pasižiūriu ar viskas gerai su failais\n",
        "saved_model_path = '/content/drive/MyDrive/gmm2/models/last_model.pth'\n",
        "os.makedirs(os.path.dirname(saved_model_path), exist_ok=True)\n",
        "\n",
        "#Bandome tinklą\n",
        "class_count = len(train_dataset.classes)\n",
        "model = ComplexConvNet(train_dataset[0][0].shape, class_count).to(device)\n",
        "\n",
        "# Užloadinam svorius (jei jie egzistuoja)\n",
        "if os.path.exists(saved_model_path):\n",
        "    model.load_state_dict(torch.load(saved_model_path, map_location=torch.device(device)))\n",
        "\n",
        "train(model, train_loader, class_count, epoch_count = 20)\n",
        "\n",
        "# Išsaugau pratreniruotą modlį atskirai\n",
        "torch.save(model.state_dict(), saved_model_path)\n"
      ],
      "metadata": {
        "colab": {
          "base_uri": "https://localhost:8080/"
        },
        "id": "0gNYjllr3zLP",
        "outputId": "d23aa498-3628-45ee-fe5d-02d794652bf8"
      },
      "execution_count": null,
      "outputs": [
        {
          "output_type": "stream",
          "name": "stdout",
          "text": [
            "Epoch 1/20, Loss: 1.0669, Accuracy: 42.11%, Time: 46.55s\n",
            "Epoch 2/20, Loss: 1.0326, Accuracy: 44.89%, Time: 81.45s\n",
            "Epoch 3/20, Loss: 1.0087, Accuracy: 46.78%, Time: 119.33s\n",
            "Epoch 4/20, Loss: 0.9996, Accuracy: 47.56%, Time: 155.05s\n"
          ]
        }
      ]
    },
    {
      "cell_type": "code",
      "execution_count": 43,
      "metadata": {
        "id": "PepYfPb4MCyE"
      },
      "outputs": [],
      "source": [
        "# Modelio testavimas\n",
        "model.load_state_dict(torch.load(saved_model_path))\n",
        "model.eval()\n",
        "\n",
        "final_predictions, final_labels = [], []\n",
        "\n",
        "with torch.no_grad():\n",
        "  for images, labels in test_loader:\n",
        "    images, labels = images.to(device), labels.to(device)\n",
        "\n",
        "    # Gauna prognozes\n",
        "    outputs = model(images)\n",
        "    _, predicted = torch.max(outputs, 1)\n",
        "\n",
        "    # Prognozuotos ir teisingos žymės\n",
        "    final_predictions.extend(predicted.cpu().numpy())\n",
        "    final_labels.extend(labels.cpu().numpy())"
      ]
    },
    {
      "cell_type": "code",
      "execution_count": 51,
      "metadata": {
        "id": "n4wsTqF8kYjl",
        "colab": {
          "base_uri": "https://localhost:8080/",
          "height": 520
        },
        "outputId": "4e878512-e4ff-4af6-fe5c-596778fd7f20"
      },
      "outputs": [
        {
          "output_type": "stream",
          "name": "stdout",
          "text": [
            "Precision: 0.5393\n",
            "Recall: 0.5369\n",
            "F1: 0.5378\n",
            "Accuracy: 0.5369\n"
          ]
        },
        {
          "output_type": "display_data",
          "data": {
            "text/plain": [
              "<Figure size 640x480 with 2 Axes>"
            ],
            "image/png": "[encoded data removed]"
          },
          "metadata": {}
        }
      ],
      "source": [
        "#Confusion matrix\n",
        "conf_matrix = confusion_matrix(final_labels, final_predictions)\n",
        "\n",
        "#Precision\n",
        "precision = precision_score(final_labels, final_predictions, average='weighted')\n",
        "print(f'Precision: {precision:.4f}')\n",
        "\n",
        "#Recall\n",
        "recall = recall_score(final_labels, final_predictions, average='weighted')\n",
        "print(f'Recall: {recall:.4f}')\n",
        "\n",
        "#F1\n",
        "f1 = f1_score(final_labels, final_predictions, average='weighted')\n",
        "print(f'F1: {f1:.4f}')\n",
        "\n",
        "#Accuracy\n",
        "accuracy = accuracy_score(final_labels, final_predictions)\n",
        "print(f'Accuracy: {accuracy:.4f}')\n",
        "\n",
        "#\n",
        "sns.heatmap(conf_matrix, annot=True, fmt='d', cmap='RdPu', xticklabels=classes, yticklabels=classes)\n",
        "plt.xlabel('Facts')\n",
        "plt.ylabel('Predictions')\n",
        "plt.show()"
      ]
    }
  ],
  "metadata": {
    "accelerator": "GPU",
    "colab": {
      "gpuType": "T4",
      "provenance": []
    },
    "kernelspec": {
      "display_name": "Python 3",
      "name": "python3"
    },
    "language_info": {
      "name": "python"
    }
  },
  "nbformat": 4,
  "nbformat_minor": 0
}
